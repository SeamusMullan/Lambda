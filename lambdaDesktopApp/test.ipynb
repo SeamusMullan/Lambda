{
 "cells": [
  {
   "cell_type": "code",
   "execution_count": 3,
   "metadata": {},
   "outputs": [
    {
     "name": "stdout",
     "output_type": "stream",
     "text": [
      "Logged in\n"
     ]
    }
   ],
   "source": [
    "from instagrapi import *\n",
    "\n",
    "cl = Client()\n",
    "cl.login(\"calmingnatureposts\", \"xN353@uxr\")\n",
    "print(\"Logged in\")"
   ]
  },
  {
   "cell_type": "code",
   "execution_count": 5,
   "metadata": {},
   "outputs": [
    {
     "name": "stdout",
     "output_type": "stream",
     "text": [
      "User(pk='8503553855', username='seamo.m', full_name='24Carrrot', is_private=False, profile_pic_url=HttpUrl('https://instagram.fdub5-1.fna.fbcdn.net/v/t51.2885-19/s150x150/91839076_925020541266909_3115713673318891520_n.jpg?_nc_ht=instagram.fdub5-1.fna.fbcdn.net&_nc_cat=109&_nc_ohc=TdJ9lgJ85YcAX9KEELe&edm=ABfd0MgBAAAA&ccb=7-4&oh=00_AT86hrPnKAHPfmC22SXzs25OvizqnAvM8fnSF769ZoeBaQ&oe=62065E79&_nc_sid=7bff83', scheme='https', host='instagram.fdub5-1.fna.fbcdn.net', tld='net', host_type='domain', port='443', path='/v/t51.2885-19/s150x150/91839076_925020541266909_3115713673318891520_n.jpg', query='_nc_ht=instagram.fdub5-1.fna.fbcdn.net&_nc_cat=109&_nc_ohc=TdJ9lgJ85YcAX9KEELe&edm=ABfd0MgBAAAA&ccb=7-4&oh=00_AT86hrPnKAHPfmC22SXzs25OvizqnAvM8fnSF769ZoeBaQ&oe=62065E79&_nc_sid=7bff83'), profile_pic_url_hd=HttpUrl('https://instagram.fdub5-1.fna.fbcdn.net/v/t51.2885-19/s320x320/91839076_925020541266909_3115713673318891520_n.jpg?_nc_ht=instagram.fdub5-1.fna.fbcdn.net&_nc_cat=109&_nc_ohc=TdJ9lgJ85YcAX9KEELe&edm=ABfd0MgBAAAA&ccb=7-4&oh=00_AT-q2zZSJz0QC1RLcVu5QaBtx1a8GTRG883V8cZ0F5EzBQ&oe=6206E2C9&_nc_sid=7bff83', scheme='https', host='instagram.fdub5-1.fna.fbcdn.net', tld='net', host_type='domain', port='443', path='/v/t51.2885-19/s320x320/91839076_925020541266909_3115713673318891520_n.jpg', query='_nc_ht=instagram.fdub5-1.fna.fbcdn.net&_nc_cat=109&_nc_ohc=TdJ9lgJ85YcAX9KEELe&edm=ABfd0MgBAAAA&ccb=7-4&oh=00_AT-q2zZSJz0QC1RLcVu5QaBtx1a8GTRG883V8cZ0F5EzBQ&oe=6206E2C9&_nc_sid=7bff83'), is_verified=False, media_count=24, follower_count=235, following_count=925, biography='Programmer / Producer\\nTaking commisions', external_url='https://open.spotify.com/artist/2W7Hw0AKU9UaqkfqGy5KnR?si=cpjihUgAT22vhGYL2e9iuQ&utm_source=copy-link&dl_branch=1', is_business=False, public_email=None, contact_phone_number=None, business_contact_method='UNKNOWN', business_category_name=None, category_name='Producer')\n"
     ]
    }
   ],
   "source": [
    "import beeprint as bp\n",
    "\n",
    "target = cl.user_id_from_username(\"seamo.m\")\n",
    "bp.pp(cl.user_info(target).dict())\n",
    "\n",
    "# print(cl.user_followers(target))"
   ]
  },
  {
   "cell_type": "code",
   "execution_count": 2,
   "metadata": {},
   "outputs": [
    {
     "name": "stderr",
     "output_type": "stream",
     "text": [
      "WARNING:root:qt_material must be imported after PySide or PyQt!\n"
     ]
    },
    {
     "data": {
      "text/plain": [
       "['dark_amber.xml',\n",
       " 'dark_blue.xml',\n",
       " 'dark_cyan.xml',\n",
       " 'dark_lightgreen.xml',\n",
       " 'dark_pink.xml',\n",
       " 'dark_purple.xml',\n",
       " 'dark_red.xml',\n",
       " 'dark_teal.xml',\n",
       " 'dark_yellow.xml',\n",
       " 'light_amber.xml',\n",
       " 'light_blue.xml',\n",
       " 'light_cyan.xml',\n",
       " 'light_cyan_500.xml',\n",
       " 'light_lightgreen.xml',\n",
       " 'light_pink.xml',\n",
       " 'light_purple.xml',\n",
       " 'light_red.xml',\n",
       " 'light_teal.xml',\n",
       " 'light_yellow.xml']"
      ]
     },
     "execution_count": 2,
     "metadata": {},
     "output_type": "execute_result"
    }
   ],
   "source": [
    "import PyQt5\n",
    "from qt_material import list_themes\n",
    "\n",
    "list_themes()"
   ]
  }
 ],
 "metadata": {
  "interpreter": {
   "hash": "bd4c67ef142469da7dc4d338a32ac40116904d26076b8e6aa587d80720bc6a2b"
  },
  "kernelspec": {
   "display_name": "Python 3.9.7 64-bit",
   "language": "python",
   "name": "python3"
  },
  "language_info": {
   "codemirror_mode": {
    "name": "ipython",
    "version": 3
   },
   "file_extension": ".py",
   "mimetype": "text/x-python",
   "name": "python",
   "nbconvert_exporter": "python",
   "pygments_lexer": "ipython3",
   "version": "3.9.7"
  },
  "orig_nbformat": 4
 },
 "nbformat": 4,
 "nbformat_minor": 2
}

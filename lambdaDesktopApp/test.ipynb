{
 "cells": [
  {
   "cell_type": "code",
   "execution_count": 3,
   "metadata": {},
   "outputs": [
    {
     "name": "stdout",
     "output_type": "stream",
     "text": [
      "Logged in\n"
     ]
    }
   ],
   "source": [
    "from instagrapi import *\n",
    "\n",
    "cl = Client()\n",
    "cl.login(\"calmingnatureposts\", \"xN353@uxr\")\n",
    "print(\"Logged in\")"
   ]
  },
  {
   "cell_type": "code",
   "execution_count": 6,
   "metadata": {},
   "outputs": [
    {
     "name": "stdout",
     "output_type": "stream",
     "text": [
      "{\n",
      "  'biography': 'Programmer / Producer\\nTaking commisions',\n",
      "  'business_category_name': None,\n",
      "  'business_contact_method': 'UNKNOWN',\n",
      "  'category_name': 'Producer',\n",
      "  'contact_phone_number': None,\n",
      "  'external_url': 'https://open.spotify.com/artist/2W7Hw0AKU9UaqkfqGy5KnR?si=cpj\n",
      "                   ihUgAT22vhGYL2e9iuQ&utm_source=copy-link&dl_branch=1',\n",
      "  'follower_count': 235,\n",
      "  'following_count': 925,\n",
      "  'full_name': '24Carrrot',\n",
      "  'is_business': False,\n",
      "  'is_private': False,\n",
      "  'is_verified': False,\n",
      "  'media_count': 24,\n",
      "  'pk': '8503553855',\n",
      "  'profile_pic_url': class(HttpUrl):\n",
      "    allowed_schemes: {'https', 'http'},\n",
      "    fragment: None,\n",
      "    get_default_parts: instance(get_default_parts),\n",
      "    hidden_parts: {'port'},\n",
      "    host: 'instagram.fdub5-1.fna.fbcdn.net',\n",
      "    host_required: True,\n",
      "    host_type: 'domain',\n",
      "    max_length: 2083,\n",
      "    min_length: 1,\n",
      "    password: None,\n",
      "    path: '/v/t51.2885-19/s150x150/91839076_925020541266909_3115713673318891520_\n",
      "           n.jpg',\n",
      "    port: '443',\n",
      "    query: '_nc_ht=instagram.fdub5-1.fna.fbcdn.net&_nc_cat=109&_nc_ohc=TdJ9lgJ85\n",
      "            YcAX9KEELe&edm=ABfd0MgBAAAA&ccb=7-4&oh=00_AT86hrPnKAHPfmC22SXzs25Ovi\n",
      "            ...(1 hidden line)',\n",
      "    scheme: 'https',\n",
      "    strip_whitespace: True,\n",
      "    tld: 'net',\n",
      "    tld_required: True,\n",
      "    user: None,\n",
      "    user_required: False,\n",
      "  'profile_pic_url_hd': class(HttpUrl):\n",
      "    allowed_schemes: {'https', 'http'},\n",
      "    fragment: None,\n",
      "    get_default_parts: instance(get_default_parts),\n",
      "    hidden_parts: {'port'},\n",
      "    host: 'instagram.fdub5-1.fna.fbcdn.net',\n",
      "    host_required: True,\n",
      "    host_type: 'domain',\n",
      "    max_length: 2083,\n",
      "    min_length: 1,\n",
      "    password: None,\n",
      "    path: '/v/t51.2885-19/s320x320/91839076_925020541266909_3115713673318891520_\n",
      "           n.jpg',\n",
      "    port: '443',\n",
      "    query: '_nc_ht=instagram.fdub5-1.fna.fbcdn.net&_nc_cat=109&_nc_ohc=TdJ9lgJ85\n",
      "            YcAX9KEELe&edm=ABfd0MgBAAAA&ccb=7-4&oh=00_AT-q2zZSJz0QC1RLcVu5QaBtx1\n",
      "            ...(1 hidden line)',\n",
      "    scheme: 'https',\n",
      "    strip_whitespace: True,\n",
      "    tld: 'net',\n",
      "    tld_required: True,\n",
      "    user: None,\n",
      "    user_required: False,\n",
      "  'public_email': None,\n",
      "  'username': 'seamo.m',\n",
      "}\n"
     ]
    }
   ],
   "source": [
    "import beeprint as bp\n",
    "\n",
    "target = cl.user_id_from_username(\"seamo.m\")\n",
    "bp.pp(cl.user_info(target).dict())\n",
    "\n",
    "# print(cl.user_followers(target))"
   ]
  }
 ],
 "metadata": {
  "interpreter": {
   "hash": "bd4c67ef142469da7dc4d338a32ac40116904d26076b8e6aa587d80720bc6a2b"
  },
  "kernelspec": {
   "display_name": "Python 3.9.7 64-bit",
   "language": "python",
   "name": "python3"
  },
  "language_info": {
   "codemirror_mode": {
    "name": "ipython",
    "version": 3
   },
   "file_extension": ".py",
   "mimetype": "text/x-python",
   "name": "python",
   "nbconvert_exporter": "python",
   "pygments_lexer": "ipython3",
   "version": "3.9.7"
  },
  "orig_nbformat": 4
 },
 "nbformat": 4,
 "nbformat_minor": 2
}

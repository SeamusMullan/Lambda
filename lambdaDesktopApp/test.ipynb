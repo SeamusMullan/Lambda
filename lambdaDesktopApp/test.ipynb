{
 "cells": [
  {
   "cell_type": "code",
   "execution_count": 1,
   "metadata": {},
   "outputs": [
    {
     "name": "stderr",
     "output_type": "stream",
     "text": [
      "Status 429: Too many requests\n",
      "Ignore 429: Continue login\n"
     ]
    },
    {
     "name": "stdout",
     "output_type": "stream",
     "text": [
      "Logged in\n"
     ]
    }
   ],
   "source": [
    "from instagrapi import *\n",
    "\n",
    "cl = Client()\n",
    "cl.login(\"calmingnatureposts\", \"xN353@uxr\")\n",
    "print(\"Logged in\")"
   ]
  },
  {
   "cell_type": "code",
   "execution_count": 131,
   "metadata": {},
   "outputs": [],
   "source": [
    "import beeprint as bp\n",
    "import pyvis\n",
    "import networkx as nx\n",
    "import threading as th\n",
    "\n",
    "\n",
    "## Get Targets\n",
    "\n",
    "target = \"seamo.m\"\n",
    "targetID = cl.user_id_from_username(target)\n",
    "\n",
    "target2 = \"notasnakepython\"\n",
    "targetID2 = cl.user_id_from_username(target2)\n",
    "\n",
    "## Get Followers\n",
    "\n",
    "x = cl.user_followers(targetID).items()\n",
    "\n",
    "y = cl.user_followers(targetID2).items()\n",
    "\n",
    "\n",
    "## Create Graph\n",
    "\n",
    "g = pyvis.network.Network(height=\"100%\", width=\"100%\", bgcolor=\"#222222\", font_color=\"white\")\n",
    "nxg = nx.DiGraph()\n",
    "nxg.add_node(target)\n",
    "nxg.add_node(target2)\n",
    "\n",
    "\n",
    "## Add Nodes\n",
    "\n",
    "for i in x:\n",
    "    xx = cl.username_from_user_id(i[0])\n",
    "    nxg.add_node(xx)\n",
    "    nxg.add_edge(target, xx)\n",
    "\n",
    "for i in y:\n",
    "    yy = cl.username_from_user_id(i[0])\n",
    "    nxg.add_node(yy)\n",
    "    nxg.add_edge(target2, yy)\n",
    "\n",
    "\n",
    "\n",
    "## Show Graph\n",
    "\n",
    "g.from_nx(nxg)\n",
    "g.set_options(\"\"\"{\n",
    "  \"edges\": {\n",
    "    \"color\": {\n",
    "      \"inherit\": true\n",
    "    },\n",
    "    \"smooth\": false\n",
    "  },\n",
    "  \"physics\": {\n",
    "    \"barnesHut\": {\n",
    "      \"gravitationalConstant\": -14900,\n",
    "      \"damping\": 0.39\n",
    "    },\n",
    "    \"minVelocity\": 0.75\n",
    "  }\n",
    "}\"\"\")\n",
    "g.show(\"test.html\")"
   ]
  }
 ],
 "metadata": {
  "interpreter": {
   "hash": "bd4c67ef142469da7dc4d338a32ac40116904d26076b8e6aa587d80720bc6a2b"
  },
  "kernelspec": {
   "display_name": "Python 3.9.7 64-bit",
   "language": "python",
   "name": "python3"
  },
  "language_info": {
   "codemirror_mode": {
    "name": "ipython",
    "version": 3
   },
   "file_extension": ".py",
   "mimetype": "text/x-python",
   "name": "python",
   "nbconvert_exporter": "python",
   "pygments_lexer": "ipython3",
   "version": "3.9.7"
  },
  "orig_nbformat": 4
 },
 "nbformat": 4,
 "nbformat_minor": 2
}

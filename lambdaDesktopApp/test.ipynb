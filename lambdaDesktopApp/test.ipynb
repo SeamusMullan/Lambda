{
 "cells": [
  {
   "cell_type": "code",
   "execution_count": 5,
   "metadata": {},
   "outputs": [
    {
     "name": "stdout",
     "output_type": "stream",
     "text": [
      "Logged in\n"
     ]
    }
   ],
   "source": [
    "from instagrapi import *\n",
    "\n",
    "cl = Client()\n",
    "cl.login(\"calmingnatureposts\", \"xN353@uxr\")\n",
    "print(\"Logged in\")"
   ]
  },
  {
   "cell_type": "code",
   "execution_count": 25,
   "metadata": {},
   "outputs": [
    {
     "name": "stdout",
     "output_type": "stream",
     "text": [
      "433411081\n",
      "jakovlevivo\n",
      "50784038706\n",
      "financesafy\n",
      "5626934679\n",
      "realtylol\n",
      "50992955147\n"
     ]
    }
   ],
   "source": [
    "target = cl.user_id_from_username(\"seamo.m\")\n",
    "for i in cl.user_followers(target):\n",
    "    print(i)\n",
    "    print(cl.username_from_user_id(i))\n",
    "\n",
    "# print(cl.user_followers(target))"
   ]
  }
 ],
 "metadata": {
  "interpreter": {
   "hash": "bd4c67ef142469da7dc4d338a32ac40116904d26076b8e6aa587d80720bc6a2b"
  },
  "kernelspec": {
   "display_name": "Python 3.9.7 64-bit",
   "language": "python",
   "name": "python3"
  },
  "language_info": {
   "codemirror_mode": {
    "name": "ipython",
    "version": 3
   },
   "file_extension": ".py",
   "mimetype": "text/x-python",
   "name": "python",
   "nbconvert_exporter": "python",
   "pygments_lexer": "ipython3",
   "version": "3.9.7"
  },
  "orig_nbformat": 4
 },
 "nbformat": 4,
 "nbformat_minor": 2
}
